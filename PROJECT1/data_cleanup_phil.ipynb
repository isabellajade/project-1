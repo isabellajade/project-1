{
 "cells": [
  {
   "cell_type": "code",
   "execution_count": 1,
   "metadata": {},
   "outputs": [],
   "source": [
    "# Dependencies\n",
    "import pandas as pd\n",
    "\n",
    "\n"
   ]
  },
  {
   "cell_type": "code",
   "execution_count": 8,
   "metadata": {},
   "outputs": [],
   "source": [
    "# Reference the file where the CSV is located\n",
    "los_angeles_file_path = \"Resources/los_angeles_listings_smol.csv\"\n",
    "oakland_file_path = \"Resources/oakland_listings_smol.csv\"\n",
    "pacific_grove_file_path = \"Resources/pacific_grove_listings_smol.csv\"\n",
    "san_diego_file_path = \"Resources/san_diego_listings_smol.csv\"\n",
    "san_francisco_file_path = \"Resources/san_francisco_listings_smol.csv\"\n",
    "san_mateo_county_file_path = \"Resources/san_mateo_county_listings_smol.csv\"\n",
    "santa_clara_county_file_path = \"Resources/santa_clara_county_listings_smol.csv\"\n",
    "santa_cruz_county_file_path = \"Resources/santa_cruz_county_listings_smol.csv\""
   ]
  },
  {
   "cell_type": "code",
   "execution_count": 9,
   "metadata": {},
   "outputs": [],
   "source": [
    "# pull each listing into its own dataframe and get the number of rows to validate against the combined frame later\n",
    "los_angeles_df = pd.read_csv(los_angeles_file_path, encoding=\"UTF-8\")\n",
    "los_angeles_num_rows = len(los_angeles_df.id)\n",
    "\n",
    "oakland_df = pd.read_csv(oakland_file_path, encoding=\"UTF-8\")\n",
    "oakland_num_rows = len(oakland_df.id)\n",
    "\n",
    "pacific_grove_df = pd.read_csv(pacific_grove_file_path, encoding=\"UTF-8\")\n",
    "pacific_grove_num_rows = len(pacific_grove_df.id)\n",
    "\n",
    "san_diego_df = pd.read_csv(san_diego_file_path, encoding=\"UTF-8\")\n",
    "san_diego_num_rows = len(san_diego_df.id)\n",
    "\n",
    "san_francisco_df = pd.read_csv(san_francisco_file_path, encoding=\"UTF-8\")\n",
    "san_francisco_num_rows = len(san_francisco_df.id)\n",
    "\n",
    "san_mateo_county_df = pd.read_csv(san_mateo_county_file_path, encoding=\"UTF-8\")\n",
    "san_mateo_county_num_rows = len(san_mateo_county_df.id)\n",
    "\n",
    "santa_clara_county_df = pd.read_csv(santa_clara_county_file_path, encoding=\"UTF-8\")\n",
    "santa_clara_county_num_rows = len(santa_clara_county_df.id)\n",
    "\n",
    "santa_cruz_county_df = pd.read_csv(santa_cruz_county_file_path, encoding=\"UTF-8\")\n",
    "santa_cruz_county_num_rows = len(santa_cruz_county_df.id)\n",
    "\n",
    "total_rows = los_angeles_num_rows + oakland_num_rows + pacific_grove_num_rows + san_diego_num_rows + san_francisco_num_rows + san_mateo_county_num_rows + santa_clara_county_num_rows + santa_cruz_county_num_rows\n",
    "\n"
   ]
  },
  {
   "cell_type": "code",
   "execution_count": 11,
   "metadata": {},
   "outputs": [
    {
     "name": "stdout",
     "output_type": "stream",
     "text": [
      "CONCAT SUCCESSFUL!\n"
     ]
    }
   ],
   "source": [
    "# concatenate the dataframes into one combined datafram\n",
    "frames = [\n",
    "    los_angeles_df, \n",
    "    oakland_df, \n",
    "    pacific_grove_df, \n",
    "    san_diego_df, \n",
    "    san_francisco_df, \n",
    "    san_mateo_county_df, \n",
    "    santa_clara_county_df, \n",
    "    santa_cruz_county_df\n",
    "]\n",
    "\n",
    "combined_df = pd.concat(frames)\n",
    "combined_num_rows = len(combined_df.id)\n",
    "\n",
    "if total_rows == combined_num_rows:\n",
    "    print(\"CONCAT SUCCESSFUL!\")\n",
    "\n",
    "    # save combined dataframe as new combined CSV\n",
    "    combined_df.to_csv(\"Resources/combined_data.csv\")\n",
    "\n",
    "else:\n",
    "    print(\"CONCAT FAILED :(\")\n"
   ]
  }
 ],
 "metadata": {
  "kernelspec": {
   "display_name": "Python 3.9.12 ('base')",
   "language": "python",
   "name": "python3"
  },
  "language_info": {
   "codemirror_mode": {
    "name": "ipython",
    "version": 3
   },
   "file_extension": ".py",
   "mimetype": "text/x-python",
   "name": "python",
   "nbconvert_exporter": "python",
   "pygments_lexer": "ipython3",
   "version": "3.9.12"
  },
  "orig_nbformat": 4,
  "vscode": {
   "interpreter": {
    "hash": "592f7a5e92b53da0ee2f05588d44c5386513ff3a2fcfc381ed8e227b7cb550b2"
   }
  }
 },
 "nbformat": 4,
 "nbformat_minor": 2
}
